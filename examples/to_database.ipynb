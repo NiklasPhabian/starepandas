{
 "cells": [
  {
   "cell_type": "code",
   "execution_count": 1,
   "metadata": {},
   "outputs": [],
   "source": [
    "import starepandas\n",
    "import geopandas\n",
    "import sqlalchemy"
   ]
  },
  {
   "cell_type": "markdown",
   "metadata": {},
   "source": [
    "# Data Prep"
   ]
  },
  {
   "cell_type": "code",
   "execution_count": 14,
   "metadata": {},
   "outputs": [
    {
     "data": {
      "text/html": [
       "<div>\n",
       "<style scoped>\n",
       "    .dataframe tbody tr th:only-of-type {\n",
       "        vertical-align: middle;\n",
       "    }\n",
       "\n",
       "    .dataframe tbody tr th {\n",
       "        vertical-align: top;\n",
       "    }\n",
       "\n",
       "    .dataframe thead th {\n",
       "        text-align: right;\n",
       "    }\n",
       "</style>\n",
       "<table border=\"1\" class=\"dataframe\">\n",
       "  <thead>\n",
       "    <tr style=\"text-align: right;\">\n",
       "      <th></th>\n",
       "      <th>City</th>\n",
       "      <th>Latitude</th>\n",
       "      <th>Longitude</th>\n",
       "      <th>stare</th>\n",
       "    </tr>\n",
       "  </thead>\n",
       "  <tbody>\n",
       "    <tr>\n",
       "      <th>0</th>\n",
       "      <td>Buenos Aires</td>\n",
       "      <td>-34.58</td>\n",
       "      <td>-58.66</td>\n",
       "      <td>2663379193440875387</td>\n",
       "    </tr>\n",
       "    <tr>\n",
       "      <th>1</th>\n",
       "      <td>Brasilia</td>\n",
       "      <td>-15.78</td>\n",
       "      <td>-47.91</td>\n",
       "      <td>2867415364672350651</td>\n",
       "    </tr>\n",
       "    <tr>\n",
       "      <th>2</th>\n",
       "      <td>Santiago</td>\n",
       "      <td>-33.45</td>\n",
       "      <td>-70.66</td>\n",
       "      <td>2723774768829278555</td>\n",
       "    </tr>\n",
       "    <tr>\n",
       "      <th>3</th>\n",
       "      <td>Bogota</td>\n",
       "      <td>4.60</td>\n",
       "      <td>-74.08</td>\n",
       "      <td>2667981979956219515</td>\n",
       "    </tr>\n",
       "    <tr>\n",
       "      <th>4</th>\n",
       "      <td>Caracas</td>\n",
       "      <td>10.48</td>\n",
       "      <td>-66.86</td>\n",
       "      <td>2494081632617553403</td>\n",
       "    </tr>\n",
       "    <tr>\n",
       "      <th>5</th>\n",
       "      <td>Sao Paulo</td>\n",
       "      <td>-23.55</td>\n",
       "      <td>-46.63</td>\n",
       "      <td>2803225788975740475</td>\n",
       "    </tr>\n",
       "    <tr>\n",
       "      <th>6</th>\n",
       "      <td>Bridgetown</td>\n",
       "      <td>13.10</td>\n",
       "      <td>-59.62</td>\n",
       "      <td>2518254660685127707</td>\n",
       "    </tr>\n",
       "  </tbody>\n",
       "</table>\n",
       "</div>"
      ],
      "text/plain": [
       "           City  Latitude  Longitude                stare\n",
       "0  Buenos Aires    -34.58     -58.66  2663379193440875387\n",
       "1      Brasilia    -15.78     -47.91  2867415364672350651\n",
       "2      Santiago    -33.45     -70.66  2723774768829278555\n",
       "3        Bogota      4.60     -74.08  2667981979956219515\n",
       "4       Caracas     10.48     -66.86  2494081632617553403\n",
       "5     Sao Paulo    -23.55     -46.63  2803225788975740475\n",
       "6    Bridgetown     13.10     -59.62  2518254660685127707"
      ]
     },
     "execution_count": 14,
     "metadata": {},
     "output_type": "execute_result"
    }
   ],
   "source": [
    "cities = ['Buenos Aires', 'Brasilia', 'Santiago', \n",
    "          'Bogota', 'Caracas', 'Sao Paulo', 'Bridgetown']\n",
    "\n",
    "latitudes = [-34.58, -15.78, -33.45, 4.60, 10.48, -23.55, 13.1]\n",
    "longitudes = [-58.66, -47.91, -70.66, -74.08, -66.86, -46.63, -59.62]\n",
    "data =  {'City': cities, \n",
    "         'Latitude': latitudes, 'Longitude': longitudes}\n",
    "\n",
    "cities = starepandas.STAREDataFrame(data)\n",
    "stare = starepandas.stare_from_xy(cities.Longitude, cities.Latitude, level=27)\n",
    "cities.set_stare(stare, inplace=True)\n",
    "cities"
   ]
  },
  {
   "cell_type": "markdown",
   "metadata": {},
   "source": [
    "# To SQLite"
   ]
  },
  {
   "cell_type": "code",
   "execution_count": 8,
   "metadata": {
    "scrolled": false
   },
   "outputs": [],
   "source": [
    "db_path = '' # Empty string for inmemory\n",
    "uri = 'sqlite:///{db_path}'.format(db_path=db_path)\n",
    "engine = sqlalchemy.create_engine(uri)\n",
    "cities.to_sql(name='cities', con=engine, if_exists='replace',)"
   ]
  },
  {
   "cell_type": "markdown",
   "metadata": {},
   "source": [
    "# To ScidDB"
   ]
  },
  {
   "cell_type": "code",
   "execution_count": 13,
   "metadata": {},
   "outputs": [],
   "source": [
    "import scidbpy\n",
    "db = scidbpy.db.DB(scidb_url='http://schiss.eri.ucsb.edu:8080/')"
   ]
  },
  {
   "cell_type": "code",
   "execution_count": 23,
   "metadata": {},
   "outputs": [],
   "source": [
    "schema = '<Latitude: float, stare: int64>[idx]'\n",
    "records = cities[['Latitude', 'stare']].to_records(index=False)\n",
    "a = db.input(schema, upload_data=records).store('cities')"
   ]
  },
  {
   "cell_type": "code",
   "execution_count": 30,
   "metadata": {},
   "outputs": [
    {
     "data": {
      "text/plain": [
       "City          object\n",
       "Latitude     float64\n",
       "Longitude    float64\n",
       "stare          int64\n",
       "dtype: object"
      ]
     },
     "execution_count": 30,
     "metadata": {},
     "output_type": "execute_result"
    }
   ],
   "source": [
    "cities.dtypes"
   ]
  },
  {
   "cell_type": "code",
   "execution_count": 27,
   "metadata": {},
   "outputs": [
    {
     "name": "stderr",
     "output_type": "stream",
     "text": [
      "/home/griessbaum/.virtualenvs/starepandas/lib/python3.8/site-packages/scidbpy/schema.py:747: UserWarning: 2 type(s) promoted for null support. Precision loss may occur\n",
      "  self._promo_warning()\n"
     ]
    },
    {
     "data": {
      "text/html": [
       "<div>\n",
       "<style scoped>\n",
       "    .dataframe tbody tr th:only-of-type {\n",
       "        vertical-align: middle;\n",
       "    }\n",
       "\n",
       "    .dataframe tbody tr th {\n",
       "        vertical-align: top;\n",
       "    }\n",
       "\n",
       "    .dataframe thead th {\n",
       "        text-align: right;\n",
       "    }\n",
       "</style>\n",
       "<table border=\"1\" class=\"dataframe\">\n",
       "  <thead>\n",
       "    <tr style=\"text-align: right;\">\n",
       "      <th></th>\n",
       "      <th>idx</th>\n",
       "      <th>Latitude</th>\n",
       "      <th>stare</th>\n",
       "    </tr>\n",
       "  </thead>\n",
       "  <tbody>\n",
       "    <tr>\n",
       "      <th>0</th>\n",
       "      <td>0</td>\n",
       "      <td>-34.580002</td>\n",
       "      <td>2.663379e+18</td>\n",
       "    </tr>\n",
       "    <tr>\n",
       "      <th>1</th>\n",
       "      <td>1</td>\n",
       "      <td>-15.780000</td>\n",
       "      <td>2.867415e+18</td>\n",
       "    </tr>\n",
       "    <tr>\n",
       "      <th>2</th>\n",
       "      <td>2</td>\n",
       "      <td>-33.450001</td>\n",
       "      <td>2.723775e+18</td>\n",
       "    </tr>\n",
       "    <tr>\n",
       "      <th>3</th>\n",
       "      <td>3</td>\n",
       "      <td>4.600000</td>\n",
       "      <td>2.667982e+18</td>\n",
       "    </tr>\n",
       "    <tr>\n",
       "      <th>4</th>\n",
       "      <td>4</td>\n",
       "      <td>10.480000</td>\n",
       "      <td>2.494082e+18</td>\n",
       "    </tr>\n",
       "    <tr>\n",
       "      <th>5</th>\n",
       "      <td>5</td>\n",
       "      <td>-23.549999</td>\n",
       "      <td>2.803226e+18</td>\n",
       "    </tr>\n",
       "    <tr>\n",
       "      <th>6</th>\n",
       "      <td>6</td>\n",
       "      <td>13.100000</td>\n",
       "      <td>2.518255e+18</td>\n",
       "    </tr>\n",
       "  </tbody>\n",
       "</table>\n",
       "</div>"
      ],
      "text/plain": [
       "   idx   Latitude         stare\n",
       "0    0 -34.580002  2.663379e+18\n",
       "1    1 -15.780000  2.867415e+18\n",
       "2    2 -33.450001  2.723775e+18\n",
       "3    3   4.600000  2.667982e+18\n",
       "4    4  10.480000  2.494082e+18\n",
       "5    5 -23.549999  2.803226e+18\n",
       "6    6  13.100000  2.518255e+18"
      ]
     },
     "execution_count": 27,
     "metadata": {},
     "output_type": "execute_result"
    }
   ],
   "source": [
    "query = 'scan({array})'.format(array='test')\n",
    "db.iquery(query=query, fetch=True)"
   ]
  },
  {
   "cell_type": "code",
   "execution_count": null,
   "metadata": {},
   "outputs": [],
   "source": [
    "query = \"remove({array})\".format(array=self.name)\n",
    "db.iquery(query=query, fetch=False)"
   ]
  }
 ],
 "metadata": {
  "kernelspec": {
   "display_name": "Python 3",
   "language": "python",
   "name": "python3"
  },
  "language_info": {
   "codemirror_mode": {
    "name": "ipython",
    "version": 3
   },
   "file_extension": ".py",
   "mimetype": "text/x-python",
   "name": "python",
   "nbconvert_exporter": "python",
   "pygments_lexer": "ipython3",
   "version": "3.8.2"
  }
 },
 "nbformat": 4,
 "nbformat_minor": 4
}
