{
 "cells": [
  {
   "cell_type": "code",
   "execution_count": 1,
   "metadata": {},
   "outputs": [],
   "source": [
    "import geopandas\n",
    "import pandas\n",
    "import starepandas\n",
    "import pystare\n",
    "import shapely\n",
    "import matplotlib.pyplot as plt"
   ]
  },
  {
   "cell_type": "markdown",
   "metadata": {},
   "source": [
    "# Points"
   ]
  },
  {
   "cell_type": "markdown",
   "metadata": {},
   "source": [
    "## Creating a naive dataframe"
   ]
  },
  {
   "cell_type": "code",
   "execution_count": 2,
   "metadata": {},
   "outputs": [],
   "source": [
    "cities = ['Buenos Aires', 'Brasilia', 'Santiago', 'Bogota', 'Caracas']\n",
    "countries = ['Argentina', 'Brazil', 'Chile', 'Colombia', 'Venezuela']\n",
    "latitudes = [-34.58, -15.78, -33.45, 4.60, 10.48]\n",
    "longitudes = [-58.66, -47.91, -70.66, -74.08, -66.86]\n",
    "data =  {'City': cities,  'Country': countries, \n",
    "         'Latitude': latitudes, 'Longitude': longitudes}\n",
    "\n",
    "df = pandas.DataFrame(data)"
   ]
  },
  {
   "cell_type": "markdown",
   "metadata": {},
   "source": [
    "## Creating a geodataframe"
   ]
  },
  {
   "cell_type": "code",
   "execution_count": 3,
   "metadata": {},
   "outputs": [
    {
     "data": {
      "text/html": [
       "<div>\n",
       "<style scoped>\n",
       "    .dataframe tbody tr th:only-of-type {\n",
       "        vertical-align: middle;\n",
       "    }\n",
       "\n",
       "    .dataframe tbody tr th {\n",
       "        vertical-align: top;\n",
       "    }\n",
       "\n",
       "    .dataframe thead th {\n",
       "        text-align: right;\n",
       "    }\n",
       "</style>\n",
       "<table border=\"1\" class=\"dataframe\">\n",
       "  <thead>\n",
       "    <tr style=\"text-align: right;\">\n",
       "      <th></th>\n",
       "      <th>City</th>\n",
       "      <th>Country</th>\n",
       "      <th>Latitude</th>\n",
       "      <th>Longitude</th>\n",
       "      <th>geometry</th>\n",
       "    </tr>\n",
       "  </thead>\n",
       "  <tbody>\n",
       "    <tr>\n",
       "      <th>0</th>\n",
       "      <td>Buenos Aires</td>\n",
       "      <td>Argentina</td>\n",
       "      <td>-34.58</td>\n",
       "      <td>-58.66</td>\n",
       "      <td>POINT (-58.66000 -34.58000)</td>\n",
       "    </tr>\n",
       "    <tr>\n",
       "      <th>1</th>\n",
       "      <td>Brasilia</td>\n",
       "      <td>Brazil</td>\n",
       "      <td>-15.78</td>\n",
       "      <td>-47.91</td>\n",
       "      <td>POINT (-47.91000 -15.78000)</td>\n",
       "    </tr>\n",
       "    <tr>\n",
       "      <th>2</th>\n",
       "      <td>Santiago</td>\n",
       "      <td>Chile</td>\n",
       "      <td>-33.45</td>\n",
       "      <td>-70.66</td>\n",
       "      <td>POINT (-70.66000 -33.45000)</td>\n",
       "    </tr>\n",
       "    <tr>\n",
       "      <th>3</th>\n",
       "      <td>Bogota</td>\n",
       "      <td>Colombia</td>\n",
       "      <td>4.60</td>\n",
       "      <td>-74.08</td>\n",
       "      <td>POINT (-74.08000 4.60000)</td>\n",
       "    </tr>\n",
       "    <tr>\n",
       "      <th>4</th>\n",
       "      <td>Caracas</td>\n",
       "      <td>Venezuela</td>\n",
       "      <td>10.48</td>\n",
       "      <td>-66.86</td>\n",
       "      <td>POINT (-66.86000 10.48000)</td>\n",
       "    </tr>\n",
       "  </tbody>\n",
       "</table>\n",
       "</div>"
      ],
      "text/plain": [
       "           City    Country  Latitude  Longitude                     geometry\n",
       "0  Buenos Aires  Argentina    -34.58     -58.66  POINT (-58.66000 -34.58000)\n",
       "1      Brasilia     Brazil    -15.78     -47.91  POINT (-47.91000 -15.78000)\n",
       "2      Santiago      Chile    -33.45     -70.66  POINT (-70.66000 -33.45000)\n",
       "3        Bogota   Colombia      4.60     -74.08    POINT (-74.08000 4.60000)\n",
       "4       Caracas  Venezuela     10.48     -66.86   POINT (-66.86000 10.48000)"
      ]
     },
     "execution_count": 3,
     "metadata": {},
     "output_type": "execute_result"
    }
   ],
   "source": [
    "geom = geopandas.points_from_xy(df.Longitude, df.Latitude)\n",
    "gdf = geopandas.GeoDataFrame(df, geometry=geom)\n",
    "gdf"
   ]
  },
  {
   "cell_type": "markdown",
   "metadata": {},
   "source": [
    "## Creating a STARE indices"
   ]
  },
  {
   "cell_type": "code",
   "execution_count": 4,
   "metadata": {},
   "outputs": [],
   "source": [
    "# Thos are all identical\n",
    "stare = starepandas.stare_from_xy(df.Longitude, df.Latitude, level=5)\n",
    "stare = starepandas.stare_from_xy_df(gdf, n_cores=2, level=5)\n",
    "stare = starepandas.stare_from_gdf(gdf, level=5)\n",
    "\n",
    "sdf = starepandas.STAREDataFrame(gdf)\n",
    "sdf.set_stare(stare, inplace=True)"
   ]
  },
  {
   "cell_type": "code",
   "execution_count": 5,
   "metadata": {},
   "outputs": [],
   "source": [
    "trixels = sdf.trixels()\n",
    "sdf.set_trixels(trixels=trixels, inplace=True)"
   ]
  },
  {
   "cell_type": "markdown",
   "metadata": {},
   "source": [
    "## Some plotting"
   ]
  },
  {
   "cell_type": "code",
   "execution_count": 6,
   "metadata": {},
   "outputs": [
    {
     "data": {
      "text/plain": [
       "<AxesSubplot:>"
      ]
     },
     "execution_count": 6,
     "metadata": {},
     "output_type": "execute_result"
    },
    {
     "data": {
      "image/png": "[encoded data removed]",
      "text/plain": [
       "<Figure size 432x288 with 1 Axes>"
      ]
     },
     "metadata": {
      "needs_background": "light"
     },
     "output_type": "display_data"
    }
   ],
   "source": [
    "fig, ax = plt.subplots()\n",
    "ax.grid(True)\n",
    "\n",
    "#sdf.plot(ax=ax)\n",
    "sdf.plot(ax=ax, trixels=True)\n",
    "sdf.plot(ax=ax, trixels=False, color='r')"
   ]
  },
  {
   "cell_type": "markdown",
   "metadata": {},
   "source": [
    "# From granule"
   ]
  },
  {
   "cell_type": "markdown",
   "metadata": {},
   "source": [
    "## Bootstrap"
   ]
  },
  {
   "cell_type": "code",
   "execution_count": 10,
   "metadata": {},
   "outputs": [],
   "source": [
    "import starepandas\n",
    "fname = 'data/sidecars/MOD05_L2.A2019336.0000.061.2019336211522.hdf'\n",
    "modis = starepandas.read_mod09(fname, \n",
    "                               add_stare=True,\n",
    "                               adapt_resolution=True,\n",
    "                               track_first=False)"
   ]
  },
  {
   "cell_type": "markdown",
   "metadata": {},
   "source": [
    "## Use Sidecar"
   ]
  },
  {
   "cell_type": "code",
   "execution_count": 11,
   "metadata": {},
   "outputs": [
    {
     "data": {
      "text/html": [
       "<div>\n",
       "<style scoped>\n",
       "    .dataframe tbody tr th:only-of-type {\n",
       "        vertical-align: middle;\n",
       "    }\n",
       "\n",
       "    .dataframe tbody tr th {\n",
       "        vertical-align: top;\n",
       "    }\n",
       "\n",
       "    .dataframe thead th {\n",
       "        text-align: right;\n",
       "    }\n",
       "</style>\n",
       "<table border=\"1\" class=\"dataframe\">\n",
       "  <thead>\n",
       "    <tr style=\"text-align: right;\">\n",
       "      <th></th>\n",
       "      <th>lat</th>\n",
       "      <th>lon</th>\n",
       "      <th>stare</th>\n",
       "    </tr>\n",
       "  </thead>\n",
       "  <tbody>\n",
       "    <tr>\n",
       "      <th>0</th>\n",
       "      <td>53.201778</td>\n",
       "      <td>-15.933996</td>\n",
       "      <td>4298473764500464809</td>\n",
       "    </tr>\n",
       "    <tr>\n",
       "      <th>1</th>\n",
       "      <td>53.203171</td>\n",
       "      <td>-16.288101</td>\n",
       "      <td>4298458168380511209</td>\n",
       "    </tr>\n",
       "    <tr>\n",
       "      <th>2</th>\n",
       "      <td>53.203518</td>\n",
       "      <td>-16.629105</td>\n",
       "      <td>4297394569014717897</td>\n",
       "    </tr>\n",
       "    <tr>\n",
       "      <th>3</th>\n",
       "      <td>53.202934</td>\n",
       "      <td>-16.957928</td>\n",
       "      <td>4297300698872999369</td>\n",
       "    </tr>\n",
       "    <tr>\n",
       "      <th>4</th>\n",
       "      <td>53.201508</td>\n",
       "      <td>-17.275316</td>\n",
       "      <td>4297290857922121161</td>\n",
       "    </tr>\n",
       "    <tr>\n",
       "      <th>...</th>\n",
       "      <td>...</td>\n",
       "      <td>...</td>\n",
       "      <td>...</td>\n",
       "    </tr>\n",
       "    <tr>\n",
       "      <th>109615</th>\n",
       "      <td>64.084297</td>\n",
       "      <td>-66.281410</td>\n",
       "      <td>3727686638370615689</td>\n",
       "    </tr>\n",
       "    <tr>\n",
       "      <th>109616</th>\n",
       "      <td>63.960953</td>\n",
       "      <td>-66.591354</td>\n",
       "      <td>3727661374545790857</td>\n",
       "    </tr>\n",
       "    <tr>\n",
       "      <th>109617</th>\n",
       "      <td>63.831799</td>\n",
       "      <td>-66.911255</td>\n",
       "      <td>3727838256925064969</td>\n",
       "    </tr>\n",
       "    <tr>\n",
       "      <th>109618</th>\n",
       "      <td>63.698635</td>\n",
       "      <td>-67.236229</td>\n",
       "      <td>3727843063731949801</td>\n",
       "    </tr>\n",
       "    <tr>\n",
       "      <th>109619</th>\n",
       "      <td>63.551617</td>\n",
       "      <td>-67.589508</td>\n",
       "      <td>3727853163225616425</td>\n",
       "    </tr>\n",
       "  </tbody>\n",
       "</table>\n",
       "<p>109620 rows × 3 columns</p>\n",
       "</div>"
      ],
      "text/plain": [
       "              lat        lon                stare\n",
       "0       53.201778 -15.933996  4298473764500464809\n",
       "1       53.203171 -16.288101  4298458168380511209\n",
       "2       53.203518 -16.629105  4297394569014717897\n",
       "3       53.202934 -16.957928  4297300698872999369\n",
       "4       53.201508 -17.275316  4297290857922121161\n",
       "...           ...        ...                  ...\n",
       "109615  64.084297 -66.281410  3727686638370615689\n",
       "109616  63.960953 -66.591354  3727661374545790857\n",
       "109617  63.831799 -66.911255  3727838256925064969\n",
       "109618  63.698635 -67.236229  3727843063731949801\n",
       "109619  63.551617 -67.589508  3727853163225616425\n",
       "\n",
       "[109620 rows x 3 columns]"
      ]
     },
     "execution_count": 11,
     "metadata": {},
     "output_type": "execute_result"
    }
   ],
   "source": [
    "modis = starepandas.read_mod09(fname, sidecar=True)\n",
    "modis"
   ]
  },
  {
   "cell_type": "markdown",
   "metadata": {},
   "source": [
    "# Polygons"
   ]
  },
  {
   "cell_type": "markdown",
   "metadata": {},
   "source": [
    "## US State"
   ]
  },
  {
   "cell_type": "code",
   "execution_count": 12,
   "metadata": {},
   "outputs": [],
   "source": [
    "us = geopandas.read_file('data/tl_2017_us_state/tl_2017_us_state.shp')\n",
    "us = us.to_crs('EPSG:4326')\n",
    "us['geom_simple'] = us.simplify(0.002)\n",
    "#us.set_geometry('geom_simple', inplace=True)"
   ]
  },
  {
   "cell_type": "code",
   "execution_count": 13,
   "metadata": {},
   "outputs": [
    {
     "data": {
      "text/plain": [
       "'geometry'"
      ]
     },
     "execution_count": 13,
     "metadata": {},
     "output_type": "execute_result"
    }
   ],
   "source": [
    "stare = starepandas.stare_from_gdf(us, level=9, force_ccw=True)\n",
    "us = starepandas.STAREDataFrame(us, stare=stare)\n",
    "us.set_trixels(inplace=True)\n",
    "us._geometry_column_name"
   ]
  },
  {
   "cell_type": "code",
   "execution_count": 14,
   "metadata": {
    "scrolled": false
   },
   "outputs": [
    {
     "data": {
      "text/plain": [
       "<AxesSubplot:>"
      ]
     },
     "execution_count": 14,
     "metadata": {},
     "output_type": "execute_result"
    },
    {
     "data": {
      "image/png": "[encoded data removed]",
      "text/plain": [
       "<Figure size 432x288 with 1 Axes>"
      ]
     },
     "metadata": {
      "needs_background": "light"
     },
     "output_type": "display_data"
    }
   ],
   "source": [
    "fig, ax = plt.subplots()\n",
    "ax.grid(True)\n",
    "\n",
    "state = us[us.NAME=='California']\n",
    "state.plot(ax=ax, trixels=True, boundary=True, color='y', zorder=0)\n",
    "state.plot(ax=ax, trixels=False, facecolor=\"none\", edgecolor='blue', zorder=1)"
   ]
  },
  {
   "cell_type": "markdown",
   "metadata": {},
   "source": [
    "## Africa"
   ]
  },
  {
   "cell_type": "code",
   "execution_count": null,
   "metadata": {},
   "outputs": [],
   "source": [
    "world = geopandas.read_file(geopandas.datasets.get_path('naturalearth_lowres'))\n",
    "world.sort_values(by='name', inplace=True)\n",
    "africa = world[world.continent=='Africa']"
   ]
  },
  {
   "cell_type": "code",
   "execution_count": null,
   "metadata": {},
   "outputs": [],
   "source": [
    "stare = starepandas.stare_from_gdf(africa, level=8, force_ccw=True)\n",
    "africa = starepandas.STAREDataFrame(africa, stare=stare)\n",
    "trixels = africa.trixels()\n",
    "africa.set_trixels(trixels, inplace=True)"
   ]
  },
  {
   "cell_type": "code",
   "execution_count": null,
   "metadata": {
    "scrolled": false
   },
   "outputs": [],
   "source": [
    "fig, ax = plt.subplots(figsize=(13,5), dpi=300)\n",
    "ax.grid(True)\n",
    "\n",
    "africa.plot(ax=ax, trixels=True, boundary=True, \n",
    "            column='name', linewidth=0.2)\n",
    "\n",
    "#fig.savefig('africa.png')"
   ]
  },
  {
   "cell_type": "markdown",
   "metadata": {},
   "source": [
    "## Holes in RSA"
   ]
  },
  {
   "cell_type": "code",
   "execution_count": null,
   "metadata": {},
   "outputs": [],
   "source": [
    "rsa = africa[africa.name=='South Africa']"
   ]
  },
  {
   "cell_type": "code",
   "execution_count": null,
   "metadata": {
    "scrolled": false
   },
   "outputs": [],
   "source": [
    "fig, ax = plt.subplots()\n",
    "ax.grid(True)\n",
    "\n",
    "rsa.plot(ax=ax, trixels=True, boundary=True, color='y', lw=1, zorder=0)\n",
    "rsa.plot(ax=ax, trixels=False, facecolor=\"none\", edgecolor='blue', lw=1, zorder=1)"
   ]
  },
  {
   "cell_type": "code",
   "execution_count": null,
   "metadata": {},
   "outputs": [],
   "source": [
    "p = rsa.iloc[0].geometry\n",
    "interior = starepandas.from_boundary(p.interiors[0], level=12, force_ccw=False)"
   ]
  },
  {
   "cell_type": "markdown",
   "metadata": {},
   "source": [
    "## Puerto Rico (GPKG)"
   ]
  },
  {
   "cell_type": "code",
   "execution_count": null,
   "metadata": {},
   "outputs": [],
   "source": [
    "file = 'data/caribbean.gpkg'\n",
    "gdf = geopandas.read_file(file)\n",
    "\n",
    "# Sanitation\n",
    "gdf.rename(columns={'NAME_0': \"name\"}, inplace=True)\n",
    "gdf.sort_values(by='name', inplace=True)\n",
    "gdf.set_index('ISO', inplace=True)\n",
    "gdf = gdf[['name', 'geometry']]\n",
    "\n",
    "# Adding simple geom\n",
    "gdf['geom_simple'] = gdf.simplify(0.001)\n",
    "gdf.set_geometry('geom_simple', inplace=True)"
   ]
  },
  {
   "cell_type": "code",
   "execution_count": null,
   "metadata": {},
   "outputs": [],
   "source": [
    "stare = starepandas.stare_from_gdf(gdf, level=11, force_ccw=True)\n",
    "sdf = starepandas.STAREDataFrame(gdf, stare=stare)"
   ]
  },
  {
   "cell_type": "code",
   "execution_count": null,
   "metadata": {},
   "outputs": [],
   "source": [
    "trixels = sdf.trixels()\n",
    "sdf.set_trixels(trixels, inplace=True)"
   ]
  },
  {
   "cell_type": "code",
   "execution_count": null,
   "metadata": {},
   "outputs": [],
   "source": [
    "fig, ax = plt.subplots(figsize=(13,5), dpi=300)\n",
    "ax.grid(True)\n",
    "\n",
    "pr = sdf[sdf['name']=='Puerto Rico']\n",
    "pr.plot(ax=ax, trixels=True, color='y', lw=1, zorder=0)\n",
    "pr.plot(ax=ax, trixels=False, facecolor=\"none\", edgecolor='blue', lw=1, zorder=1)"
   ]
  },
  {
   "cell_type": "code",
   "execution_count": null,
   "metadata": {},
   "outputs": [],
   "source": []
  }
 ],
 "metadata": {
  "kernelspec": {
   "display_name": "Python 3",
   "language": "python",
   "name": "python3"
  },
  "language_info": {
   "codemirror_mode": {
    "name": "ipython",
    "version": 3
   },
   "file_extension": ".py",
   "mimetype": "text/x-python",
   "name": "python",
   "nbconvert_exporter": "python",
   "pygments_lexer": "ipython3",
   "version": "3.8.5"
  }
 },
 "nbformat": 4,
 "nbformat_minor": 4
}
